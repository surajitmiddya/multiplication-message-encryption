{
 "cells": [
  {
   "cell_type": "markdown",
   "id": "95859574-7bc6-451a-95da-f7f3a9144677",
   "metadata": {},
   "source": [
    "Q1. Create a function which will take a list as an argument and return the product of all the numbers\n",
    "after creating a flat list.\n",
    "Use the below-given list as an argument for your function.\n",
    "list1 = [1,2,3,4, [44,55,66, True], False, (34,56,78,89,34), {1,2,3,3,2,1}, {1:34, \"key2\": [55, 67, 78, 89], 4: (45,\n",
    "22, 61, 34)}, [56, 'data science'], 'Machine Learning']\n",
    "Note: you must extract numeric keys and values of the dictionary also."
   ]
  },
  {
   "cell_type": "code",
   "execution_count": 9,
   "id": "3cbbbf1e-5c2c-4541-be98-7098214f261c",
   "metadata": {},
   "outputs": [],
   "source": [
    "list1 = [1,2,3,4, [44,55,66, True], False, (34,56,78,89,34), {1,2,3,3,2,1}, {1:34, \"key2\": [55, 67, 78, 89], 4: (45, 22, 61, 34)}, [56, 'data science'], 'Machine Learning']\n",
    "\n",
    "def product_numbers(list1):\n",
    "    flat_list=[]\n",
    "    for i in list1:\n",
    "        if type(i)==int or type(i)==float:\n",
    "            flat_list.append(i)\n",
    "        elif type(i)==list:\n",
    "            for j in i:\n",
    "                if type(j)==int or type(j)==float:\n",
    "                    flat_list.append(j)\n",
    "        elif type(i)==tuple:\n",
    "            for k in i:\n",
    "                if type(k)==int or type(k)==float:\n",
    "                    flat_list.append(k)\n",
    "        elif type(i)==set:\n",
    "            for l in i:\n",
    "                if type(l)==int or type(l)==float:\n",
    "                    flat_list.append(l)  \n",
    "        elif type(i)==dict:\n",
    "            for key, value in i.items():\n",
    "                if type(key)==int or type(key)==float:\n",
    "                    flat_list.append(key)\n",
    "                if type(value)==int or type(value)==float:\n",
    "                    flat_list.append(value)\n",
    "    product=1\n",
    "    for num in flat_list:\n",
    "        product=product*num\n",
    "    return product                            "
   ]
  },
  {
   "cell_type": "code",
   "execution_count": 10,
   "id": "c8e0fb98-42b0-4c57-a914-69d53f08837c",
   "metadata": {},
   "outputs": [
    {
     "data": {
      "text/plain": [
       "78718933113238978560"
      ]
     },
     "execution_count": 10,
     "metadata": {},
     "output_type": "execute_result"
    }
   ],
   "source": [
    "product_numbers(list1)"
   ]
  },
  {
   "cell_type": "markdown",
   "id": "94e9c857-fe38-49ba-b69d-0b04d4d69e31",
   "metadata": {},
   "source": [
    "Q2. Write a python program for encrypting a message sent to you by your friend. The logic of encryption\n",
    "should be such that, for a the output should be z. For b, the output should be y. For c, the output should\n",
    "be x respectively. Also, the whitespace should be replaced with a dollar sign. Keep the punctuation\n",
    "marks unchanged.\n",
    "Input Sentence: I want to become a Data Scientist.\n",
    "Encrypt the above input sentence using the program you just created.\n",
    "Note: Convert the given input sentence into lowercase before encrypting. The final output should be\n",
    "lowercase."
   ]
  },
  {
   "cell_type": "code",
   "execution_count": 40,
   "id": "4d94a095-5d31-44f2-afa3-03210e2cf42e",
   "metadata": {},
   "outputs": [
    {
     "name": "stdout",
     "output_type": "stream",
     "text": [
      "r$dzmg$gl$yvxlnv$z$wzgz$hxrvmgrhg.\n"
     ]
    }
   ],
   "source": [
    "message = \"I want to become a Data Scientist.\"\n",
    "def encrypt(message):\n",
    "    encrypted_message = \"\"\n",
    "    for char in message:\n",
    "        if char.isalpha():\n",
    "            # Convert the character to its corresponding encrypted character\n",
    "            encrypted_char = chr(219 - ord(char))\n",
    "            encrypted_message += encrypted_char.lower() #concatination\n",
    "        elif char == \" \":\n",
    "            # Replace whitespace with a dollar sign\n",
    "            encrypted_message += \"$\"\n",
    "        else:\n",
    "            # Keep punctuation marks unchanged\n",
    "            encrypted_message += char\n",
    "    return encrypted_message\n",
    "\n",
    "encrypted = encrypt(message.lower())\n",
    "print(encrypted)"
   ]
  }
 ],
 "metadata": {
  "kernelspec": {
   "display_name": "Python 3 (ipykernel)",
   "language": "python",
   "name": "python3"
  },
  "language_info": {
   "codemirror_mode": {
    "name": "ipython",
    "version": 3
   },
   "file_extension": ".py",
   "mimetype": "text/x-python",
   "name": "python",
   "nbconvert_exporter": "python",
   "pygments_lexer": "ipython3",
   "version": "3.10.8"
  }
 },
 "nbformat": 4,
 "nbformat_minor": 5
}
